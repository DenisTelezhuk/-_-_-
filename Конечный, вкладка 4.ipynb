{
 "cells": [
  {
   "cell_type": "markdown",
   "id": "ddef0cae",
   "metadata": {},
   "source": [
    "Составление отчета по городской логистике. Анализ времени прибытия груза с момента возникновения заявки."
   ]
  },
  {
   "cell_type": "markdown",
   "id": "b370173a",
   "metadata": {},
   "source": [
    "* Таблицы с полученными данными были скрыты. Оставлен скрипт автоматизации расчетов."
   ]
  },
  {
   "cell_type": "markdown",
   "id": "3fcde3b0",
   "metadata": {},
   "source": [
    "Выгрузим необходимые библиотеки для работы с данными"
   ]
  },
  {
   "cell_type": "code",
   "execution_count": 1,
   "id": "9ad2233b",
   "metadata": {
    "colab": {
     "base_uri": "https://localhost:8080/",
     "height": 710
    },
    "id": "9ad2233b",
    "outputId": "984fb416-57dd-4d94-d00f-100b9246a400"
   },
   "outputs": [],
   "source": [
    "import pandas as pd\n",
    "import datetime as dt\n",
    "import datetime\n",
    "from datetime import datetime, timedelta\n",
    "from dateutil.relativedelta import relativedelta\n",
    "import numpy as np\n",
    "from numpy import sqrt, abs, round\n",
    "data = pd.read_excel('Отчет ГЛ за 22-28.05.XLSX', sheet_name = 'Sheet1')"
   ]
  },
  {
   "cell_type": "markdown",
   "id": "a4b62b4d",
   "metadata": {},
   "source": [
    "Удалим дубликаты"
   ]
  },
  {
   "cell_type": "code",
   "execution_count": 2,
   "id": "ec91c016",
   "metadata": {
    "id": "ec91c016"
   },
   "outputs": [],
   "source": [
    "data = data.drop_duplicates(subset=['№ ЭР'])"
   ]
  },
  {
   "cell_type": "markdown",
   "id": "d40b7f96",
   "metadata": {},
   "source": [
    "Откроем все вкладки в существующем датасете"
   ]
  },
  {
   "cell_type": "code",
   "execution_count": 3,
   "id": "b35d9ee9",
   "metadata": {
    "id": "b35d9ee9"
   },
   "outputs": [],
   "source": [
    "data_actual = pd.read_excel('Отчет ГЛ за 22-28.05.XLSX', sheet_name = 'актуализация')\n",
    "data_sr_dost_hr = pd.read_excel('Отчет ГЛ за 22-28.05.XLSX', sheet_name = 'сроки дост хран')\n",
    "data_dop_scl = pd.read_excel('Отчет ГЛ за 22-28.05.XLSX', sheet_name = 'доп складыДО')\n",
    "data_div = pd.read_excel('Отчет ГЛ за 22-28.05.XLSX', sheet_name = 'див')\n",
    "data_hour_p = pd.read_excel('Отчет ГЛ за 22-28.05.XLSX', sheet_name = 'час пояса')\n",
    "data_period = pd.read_excel('Отчет ГЛ за 22-28.05.XLSX', sheet_name = 'периоды')"
   ]
  },
  {
   "cell_type": "markdown",
   "id": "c0eae019",
   "metadata": {},
   "source": [
    "Соединим вкладки основной выгрузки и часового пояса"
   ]
  },
  {
   "cell_type": "code",
   "execution_count": 4,
   "id": "4edbc78a",
   "metadata": {
    "id": "4edbc78a"
   },
   "outputs": [],
   "source": [
    "data_1 = pd.merge(data, data_hour_p, on ='Наименование завода отправителя', how ='left')\n",
    "data_1 = data_1.drop(['Часовой пояс'], axis=1)\n",
    "data_1 = data_1.drop(['Значение'], axis=1)\n",
    "data_1 = data_1.drop(['формула дельта в часах ко времени ЕКБ'], axis=1)\n",
    "data_1['дельта в часах ко времени ЕКБ'] = data_1['дельта в часах ко времени ЕКБ'].abs()"
   ]
  },
  {
   "cell_type": "markdown",
   "id": "a07edc9b",
   "metadata": {},
   "source": [
    "Еще раз преобразуем предыдущее слияние датасетов, удалив ненужные для расчета столбцы"
   ]
  },
  {
   "cell_type": "code",
   "execution_count": 5,
   "id": "689ca2d0",
   "metadata": {
    "id": "689ca2d0"
   },
   "outputs": [],
   "source": [
    "data_2 = pd.merge(data_1, data_hour_p, on ='Наименование завода отправителя', how ='left')\n",
    "data_2 = data_2.drop(['Часовой пояс'], axis=1)\n",
    "data_2 = data_2.drop(['формула дельта в часах ко времени ЕКБ'], axis=1)\n",
    "data_2 = data_2.drop(['дельта в часах ко времени ЕКБ_y'], axis=1)\n",
    "data_2 = data_2.rename(columns={'Значение' : 'Прибавить'})"
   ]
  },
  {
   "cell_type": "markdown",
   "id": "f2e3ffb0",
   "metadata": {},
   "source": [
    "Произведем преобразования в столбцах со временем с возможностью добавления значений формата int к исходному datetime"
   ]
  },
  {
   "cell_type": "code",
   "execution_count": 6,
   "id": "6c6379a8",
   "metadata": {
    "id": "6c6379a8"
   },
   "outputs": [],
   "source": [
    "data_2['дельта в часах ко времени ЕКБ_x'] = data_2['дельта в часах ко времени ЕКБ_x'].astype(int)\n",
    "data_2['time'] = data_2['Дата создания'].astype(str) + \" \" + data_2['Время'].astype(str)\n",
    "data_2['time'] = pd.to_datetime(data_2['time'])"
   ]
  },
  {
   "cell_type": "code",
   "execution_count": 7,
   "id": "qh6FOaA_NfYq",
   "metadata": {
    "colab": {
     "base_uri": "https://localhost:8080/"
    },
    "id": "qh6FOaA_NfYq",
    "outputId": "298d5bbe-bb74-416c-ec94-6f1653af1358"
   },
   "outputs": [
    {
     "data": {
      "text/plain": [
       "0       2023-05-28 16:07:56\n",
       "1       2023-05-28 13:05:39\n",
       "2       2023-05-24 10:45:19\n",
       "3       2023-05-23 10:16:39\n",
       "4       2023-05-22 14:52:49\n",
       "                ...        \n",
       "12616   2023-05-25 13:04:44\n",
       "12617   2023-05-25 15:20:48\n",
       "12618   2023-05-26 10:55:25\n",
       "12619   2023-05-27 00:08:07\n",
       "12620   2023-05-25 14:30:27\n",
       "Name: time, Length: 12621, dtype: datetime64[ns]"
      ]
     },
     "execution_count": 7,
     "metadata": {},
     "output_type": "execute_result"
    }
   ],
   "source": [
    "data_2['time']"
   ]
  },
  {
   "cell_type": "markdown",
   "id": "0f46600a",
   "metadata": {},
   "source": [
    "Произведем действия по добавлению (вычитанию) времени из столбцов даты и времени прибытия груза"
   ]
  },
  {
   "cell_type": "code",
   "execution_count": 8,
   "id": "114c9446",
   "metadata": {
    "colab": {
     "base_uri": "https://localhost:8080/"
    },
    "id": "114c9446",
    "outputId": "41804136-36b0-4fa5-ae99-e1876ce680ad"
   },
   "outputs": [
    {
     "data": {
      "text/plain": [
       "0       2023-05-28 16:07:56\n",
       "1       2023-05-28 11:05:39\n",
       "2       2023-05-24 09:45:19\n",
       "3       2023-05-23 10:16:39\n",
       "4       2023-05-22 12:52:49\n",
       "                ...        \n",
       "12616   2023-05-25 11:04:44\n",
       "12617   2023-05-25 15:20:48\n",
       "12618   2023-05-26 10:55:25\n",
       "12619   2023-05-26 22:08:07\n",
       "12620   2023-05-25 14:30:27\n",
       "Name: дата и время создания с учетом час пояса, Length: 12621, dtype: datetime64[ns]"
      ]
     },
     "execution_count": 8,
     "metadata": {},
     "output_type": "execute_result"
    }
   ],
   "source": [
    "def time_lp(data_2):\n",
    "    if data_2['Прибавить'] == 'прибавить':\n",
    "        return data_2['time'] + relativedelta(hours=data_2['дельта в часах ко времени ЕКБ_x'])\n",
    "    else:\n",
    "        return data_2['time'] - relativedelta(hours=data_2['дельта в часах ко времени ЕКБ_x'])\n",
    "data_2['дата и время создания с учетом час пояса'] = data_2.apply(time_lp, axis=1)\n",
    "data_2['дата и время создания с учетом час пояса']"
   ]
  },
  {
   "cell_type": "markdown",
   "id": "520454f9",
   "metadata": {},
   "source": [
    "Произведем обратный перевод из числового формата int в datetime"
   ]
  },
  {
   "cell_type": "code",
   "execution_count": 9,
   "id": "e89563d6",
   "metadata": {
    "id": "e89563d6"
   },
   "outputs": [],
   "source": [
    "data_2['Дата создания с час поясом'] = pd.to_datetime(data_2['дата и время создания с учетом час пояса']).dt.date"
   ]
  },
  {
   "cell_type": "code",
   "execution_count": 10,
   "id": "c36afeb6",
   "metadata": {
    "id": "c36afeb6"
   },
   "outputs": [],
   "source": [
    "data_2['Время создания с час поясом'] = pd.to_datetime(data_2['дата и время создания с учетом час пояса']).dt.time"
   ]
  },
  {
   "cell_type": "code",
   "execution_count": 11,
   "id": "80036f0c",
   "metadata": {
    "id": "80036f0c"
   },
   "outputs": [],
   "source": [
    "data_2['День недели'] = pd.to_datetime(data_2['Дата создания с час поясом']).dt.dayofweek"
   ]
  },
  {
   "cell_type": "markdown",
   "id": "ca40fa9a",
   "metadata": {},
   "source": [
    "Произведем действия по добавлению дней из столбцов даты и времени прибытия груза. Прибытие груза на выходных - прибавляем количество дней до ближайшего рабочего дня. В пятницу после 12:00 местного времени - аналогично."
   ]
  },
  {
   "cell_type": "code",
   "execution_count": 12,
   "id": "c0b9d1bf",
   "metadata": {
    "colab": {
     "base_uri": "https://localhost:8080/"
    },
    "id": "c0b9d1bf",
    "outputId": "c56e3dbb-4fa4-4550-8451-fea0b03d8967"
   },
   "outputs": [
    {
     "data": {
      "text/plain": [
       "0        2023-05-29\n",
       "1        2023-05-29\n",
       "2        2023-05-24\n",
       "3        2023-05-23\n",
       "4        2023-05-22\n",
       "            ...    \n",
       "12616    2023-05-25\n",
       "12617    2023-05-25\n",
       "12618    2023-05-26\n",
       "12619    2023-05-29\n",
       "12620    2023-05-25\n",
       "Name: Дата создания с учетом выходных, Length: 12621, dtype: object"
      ]
     },
     "execution_count": 12,
     "metadata": {},
     "output_type": "execute_result"
    }
   ],
   "source": [
    "data_2['Время создания с час поясом'] = pd.to_datetime(data_2['дата и время создания с учетом час пояса']).dt.hour\n",
    "def time_lp_1(data_2):\n",
    "    if ((data_2['День недели'] == 4) and (data_2['Время создания с час поясом'] >= 12)):\n",
    "        return data_2['дата и время создания с учетом час пояса'] + relativedelta(days=3)\n",
    "    elif data_2['День недели'] == 5:\n",
    "        return data_2['time'] + relativedelta(days=2)\n",
    "    elif data_2['День недели'] == 6:\n",
    "        return data_2['time'] + relativedelta(days=1)\n",
    "    else:\n",
    "        return data_2['Дата создания с час поясом']\n",
    "data_2['Дата создания с учетом выходных'] = data_2.apply(time_lp_1, axis=1)\n",
    "data_2['Дата создания с учетом выходных'] = data_2['Дата создания с учетом выходных'].dt.date\n",
    "data_2['Дата создания с учетом выходных']"
   ]
  },
  {
   "cell_type": "code",
   "execution_count": 13,
   "id": "81875f6b",
   "metadata": {
    "id": "81875f6b"
   },
   "outputs": [],
   "source": [
    "data_2['Плановая дата забора'] = data_2['Плановая дата забора'].astype(str)"
   ]
  },
  {
   "cell_type": "markdown",
   "id": "2e62816f",
   "metadata": {},
   "source": [
    "Нет даты прибытия - не берем в расчет"
   ]
  },
  {
   "cell_type": "code",
   "execution_count": 14,
   "id": "f1c7f299",
   "metadata": {
    "id": "f1c7f299"
   },
   "outputs": [],
   "source": [
    "def time_lp_2(data_2):\n",
    "    if data_2['Плановая дата забора'] == 'NaT':\n",
    "        return 'убрать'\n",
    "    else:\n",
    "        return ''\n",
    "data_2['убрать нет план даты'] = data_2.apply(time_lp_2, axis=1)"
   ]
  },
  {
   "cell_type": "code",
   "execution_count": 15,
   "id": "KPkOx93Kv0YR",
   "metadata": {
    "id": "KPkOx93Kv0YR"
   },
   "outputs": [],
   "source": [
    "data_2['Дата статуса  \"Груз принят\"'] = data_2['Дата статуса  \"Груз принят\"'].astype(str)"
   ]
  },
  {
   "cell_type": "markdown",
   "id": "fc724ea2",
   "metadata": {},
   "source": [
    "Нет принятия груза на складе от клиента - не берем в расчет"
   ]
  },
  {
   "cell_type": "code",
   "execution_count": 16,
   "id": "35690b3e",
   "metadata": {
    "id": "35690b3e"
   },
   "outputs": [],
   "source": [
    "data_2['Плановая дата забора'] = pd.to_datetime(data_2['Плановая дата забора'])\n",
    "def time_lp_3(data_2):\n",
    "    if (data_2['Дата статуса  \"Груз принят\"'] == 'NaT'):\n",
    "        if (data_2['Плановая дата забора'] > datetime(2023, 5, 30)):\n",
    "            return 'убрать'\n",
    "        else:\n",
    "            return ''\n",
    "data_2['убрать план дата больше даты создания отчета'] = data_2.apply(time_lp_3, axis=1)"
   ]
  },
  {
   "cell_type": "code",
   "execution_count": 17,
   "id": "_3KHEu6C27tK",
   "metadata": {
    "id": "_3KHEu6C27tK"
   },
   "outputs": [],
   "source": [
    "data_2['Дата статуса  \"Груз принят\"'] = pd.to_datetime(data_2['Дата статуса  \"Груз принят\"'])"
   ]
  },
  {
   "cell_type": "markdown",
   "id": "06d1fb12",
   "metadata": {},
   "source": [
    "Подсоединим еще одну вкладку к основному датасету, произведем перевод типов столбцов в нужный формат"
   ]
  },
  {
   "cell_type": "code",
   "execution_count": 18,
   "id": "d2f11bbf",
   "metadata": {
    "id": "d2f11bbf"
   },
   "outputs": [],
   "source": [
    "data_div = data_div.rename(columns={'РП' : 'Наименование завода отправителя'})\n",
    "data_3 = pd.merge(data_2, data_div, on ='Наименование завода отправителя', how ='left')"
   ]
  },
  {
   "cell_type": "code",
   "execution_count": 19,
   "id": "8f5c591c",
   "metadata": {
    "id": "8f5c591c"
   },
   "outputs": [],
   "source": [
    "data_3['Срок забора без выходных'] = (data_3['Дата статуса  \"Груз принят\"'] - data_3['Дата создания'])\n",
    "data_3['Срок забора без выходных'] = data_3['Срок забора без выходных'].dt.days"
   ]
  },
  {
   "cell_type": "code",
   "execution_count": 20,
   "id": "6409263c",
   "metadata": {
    "id": "6409263c"
   },
   "outputs": [],
   "source": [
    "data_3['Срок забора с выходными'] = (data_3['Дата статуса  \"Груз принят\"'] - pd.to_datetime(data_3['Дата создания с учетом выходных']))\n",
    "data_3['Срок забора с выходными'] = data_3['Срок забора с выходными'].dt.days"
   ]
  },
  {
   "cell_type": "markdown",
   "id": "11eac98f",
   "metadata": {},
   "source": [
    "Получившиеся ошибки при манипуляции с переносом даты прибытия груза, необходимо исправить. Все отрицательные числа заменяем на 0 или положительные"
   ]
  },
  {
   "cell_type": "code",
   "execution_count": 21,
   "id": "b23f3741",
   "metadata": {
    "id": "b23f3741"
   },
   "outputs": [],
   "source": [
    "def categorize_ceiling(data_3):\n",
    "    if data_3['Срок забора с выходными'] == -3:\n",
    "        return 0\n",
    "    elif data_3['Срок забора с выходными'] == -2:\n",
    "        return 1\n",
    "    elif data_3['Срок забора с выходными'] == -1:\n",
    "        return 2\n",
    "    else:\n",
    "        return data_3['Срок забора с выходными']\n",
    "data_3['Срок забора с выходными'] = data_3.apply(categorize_ceiling, axis=1)"
   ]
  },
  {
   "cell_type": "code",
   "execution_count": 22,
   "id": "NUdcHwQCZihR",
   "metadata": {
    "id": "NUdcHwQCZihR"
   },
   "outputs": [],
   "source": [
    "data_3['меньшее'] = np.minimum(data_3['Срок забора без выходных'], data_3['Срок забора с выходными'])"
   ]
  },
  {
   "cell_type": "code",
   "execution_count": 23,
   "id": "c0597295",
   "metadata": {
    "id": "c0597295"
   },
   "outputs": [],
   "source": [
    "data_3['меньшее'] = data_3['меньшее'].fillna(-45000)"
   ]
  },
  {
   "cell_type": "code",
   "execution_count": 24,
   "id": "b3fd03fb",
   "metadata": {
    "id": "b3fd03fb"
   },
   "outputs": [],
   "source": [
    "data_3['убрать нет план даты'] = data_3['убрать нет план даты'].astype(str)\n",
    "data_3['убрать план дата больше даты создания отчета'] = data_3['убрать план дата больше даты создания отчета'].astype(str)"
   ]
  },
  {
   "cell_type": "markdown",
   "id": "0ea7df4d",
   "metadata": {},
   "source": [
    "В зависимости от получившихся чисел в столбце \"меньшее\" необходимо категоризовать забор груза."
   ]
  },
  {
   "cell_type": "code",
   "execution_count": 25,
   "id": "bf06b91e",
   "metadata": {
    "colab": {
     "base_uri": "https://localhost:8080/"
    },
    "id": "bf06b91e",
    "outputId": "7e71e077-ac3a-4117-8fbd-9ed334379088"
   },
   "outputs": [],
   "source": [
    "def minimum(data_3):\n",
    "    if data_3['меньшее'] == 0:\n",
    "        return 'Забор день в день'\n",
    "    elif data_3['меньшее'] == 1:\n",
    "        return 'Забор на следующий день'\n",
    "    elif data_3['меньшее'] == 2:\n",
    "        return 'Забор через 2 дня'\n",
    "    elif data_3['меньшее'] == 3:\n",
    "        return 'Забор через 3 дня'\n",
    "    elif data_3['меньшее'] == 4:\n",
    "        return 'Забор через 4-5 дней'\n",
    "    elif data_3['меньшее'] == 5:\n",
    "        return 'Забор через 4-5 дней'\n",
    "    elif data_3['меньшее'] >= 6:\n",
    "        return 'Забор через 6 дней и более'\n",
    "    else:\n",
    "        return 'Забор груза не состоялся (возможно отсутствует услуга забора)'\n",
    "data_3['периоды'] = data_3.apply(minimum, axis=1)"
   ]
  },
  {
   "cell_type": "markdown",
   "id": "e4f67469",
   "metadata": {},
   "source": [
    "Объединим основной датасет со вкладкой списка дополнительных складов и удалим из датасета строки с дополнительными складами."
   ]
  },
  {
   "cell_type": "code",
   "execution_count": 26,
   "id": "64069fe3",
   "metadata": {
    "id": "64069fe3"
   },
   "outputs": [],
   "source": [
    "data_end = pd.merge(data_3, data_dop_scl, on = 'Наименование завода отправителя', how='left')"
   ]
  },
  {
   "cell_type": "code",
   "execution_count": 27,
   "id": "c4c962e3",
   "metadata": {},
   "outputs": [],
   "source": [
    "data_end = data_end[data_end['Наименование завода отправителя'] != ('Минск-2',\n",
    "'Иваново-2',\n",
    "'Иваново-3',\n",
    "'Казань-2',\n",
    "'Казань-3',\n",
    "'Нижний Новгород-2',\n",
    "'Нижний Новгород-3',\n",
    "'Ижевск-2',\n",
    "'Пермь-2',\n",
    "'Екатеринбург-7',\n",
    "'Екатеринбург-Запад',\n",
    "'Екатеринбург-КОР',\n",
    "'Екатеринбург-Север',\n",
    "'Бишкек-2',\n",
    "'Бишкек-3',\n",
    "'Севастополь-2',\n",
    "'Симферополь-2',\n",
    "'Владимир-2',\n",
    "'Пермь-3',\n",
    "'Саранск-2',\n",
    "'Тольятти-2',\n",
    "'Самара-2',\n",
    "'Ульяновск-2',\n",
    "'Санкт-Петербург-Восток',\n",
    "'Санкт-Петербург-Север',\n",
    "'Санкт-Петербург-Юг',\n",
    "'Барнаул-2',\n",
    "'Красноярск-3',\n",
    "'Новосибирск-2',\n",
    "'Новосибирск-3',\n",
    "'Москва-Балашиха',\n",
    "'Москва-Восток',\n",
    "'Москва-Запад',\n",
    "'Москва-Красногорск',\n",
    "'Москва-Север',                                                             \n",
    "'Москва-Химки',\n",
    "'Москва-Щербинка',\n",
    "'Омск-2',\n",
    "'Тюмень-2',\n",
    "'Воронеж-2',\n",
    "'Анапа-2',\n",
    "'Краснодар',\n",
    "'Краснодар-2',\n",
    "'Ростов-на-Дону-2',\n",
    "'Челябинск-2',\n",
    "'Челябинск-3',\n",
    "'Москва-Дисконт')]"
   ]
  },
  {
   "cell_type": "markdown",
   "id": "1dc1cf2e",
   "metadata": {},
   "source": [
    "Из нового объединенного датасета уберем строчки, где нет плановой даты и даты, указанной после создания настоящего отчета."
   ]
  },
  {
   "cell_type": "code",
   "execution_count": 28,
   "id": "0dffc999",
   "metadata": {
    "id": "0dffc999"
   },
   "outputs": [],
   "source": [
    "data_end = data_end[data_end['убрать нет план даты'] != 'убрать']\n",
    "data_end = data_end[data_end['убрать план дата больше даты создания отчета'] != 'убрать']"
   ]
  },
  {
   "cell_type": "markdown",
   "id": "829f06a4",
   "metadata": {},
   "source": [
    "Составим сводную таблицу отдельно по дивизиональным округам и выведем там столбцы с датой забора и количеством груза."
   ]
  },
  {
   "cell_type": "code",
   "execution_count": 29,
   "id": "35b6e5ec",
   "metadata": {
    "colab": {
     "base_uri": "https://localhost:8080/",
     "height": 755
    },
    "id": "35b6e5ec",
    "outputId": "687298d6-7098-48f1-a8e9-1c6996236933"
   },
   "outputs": [],
   "source": [
    "table = pd.pivot_table(data_end, values='№ ЭР', index='Дивизион',\n",
    "aggfunc='count', columns='периоды', margins_name='Итог количество', margins=True, dropna=True)"
   ]
  },
  {
   "cell_type": "markdown",
   "id": "c5016f01",
   "metadata": {},
   "source": [
    "Создадим столбцы с % забора груза по дням."
   ]
  },
  {
   "cell_type": "code",
   "execution_count": 30,
   "id": "097e43f9",
   "metadata": {},
   "outputs": [],
   "source": [
    "table['% от количества_1'] = (table['Забор груза не состоялся (возможно отсутствует услуга забора)'] / table['Итог количество']*100).round(2)\n",
    "table['% от количества_2'] = (table['Забор день в день'] / table['Итог количество']*100).round(2)\n",
    "table['% от количества_3'] = (table['Забор на следующий день'] / table['Итог количество']*100).round(2)\n",
    "table['% от количества_4'] = (table['Забор через 2 дня'] / table['Итог количество']*100).round(2)\n",
    "table['% от количества_5'] = (table['Забор через 3 дня'] / table['Итог количество']*100).round(2)\n",
    "table['% от количества_6'] = (table['Забор через 4-5 дней'] / table['Итог количество']*100).round(2)\n",
    "table['% от количества_7'] = (table['Забор через 6 дней и более'] / table['Итог количество']*100).round(2)\n",
    "table['% от количества_sum'] = (table['Итог количество'] / table['Итог количество']*100).round(2)"
   ]
  },
  {
   "cell_type": "markdown",
   "id": "32382ee7",
   "metadata": {},
   "source": [
    "Создадим сводную таблицу отдельно по наименованию складов и аналогично предыдущей сводной, проведем действия с данными."
   ]
  },
  {
   "cell_type": "code",
   "execution_count": 31,
   "id": "c3f13aa7",
   "metadata": {},
   "outputs": [],
   "source": [
    "table_2 = pd.pivot_table(data_end, values='№ ЭР', index=['Наименование завода отправителя'],\n",
    "aggfunc='count', columns='периоды', margins_name='Итог количество', margins=True, dropna=True)"
   ]
  },
  {
   "cell_type": "code",
   "execution_count": 32,
   "id": "5a093d9e",
   "metadata": {},
   "outputs": [],
   "source": [
    "table_2['% от количества_1'] = (table_2['Забор груза не состоялся (возможно отсутствует услуга забора)'] / table_2['Итог количество']*100).round(2)\n",
    "table_2['% от количества_2'] = (table_2['Забор день в день'] / table_2['Итог количество']*100).round(2)\n",
    "table_2['% от количества_3'] = (table_2['Забор на следующий день'] / table_2['Итог количество']*100).round(2)\n",
    "table_2['% от количества_4'] = (table_2['Забор через 2 дня'] / table_2['Итог количество']*100).round(2)\n",
    "table_2['% от количества_5'] = (table_2['Забор через 3 дня'] / table_2['Итог количество']*100).round(2)\n",
    "table_2['% от количества_6'] = (table_2['Забор через 4-5 дней'] / table_2['Итог количество']*100).round(2)\n",
    "table_2['% от количества_7'] = (table_2['Забор через 6 дней и более'] / table_2['Итог количество']*100).round(2)\n",
    "table_2['% от количества_sum'] = (table_2['Итог количество'] / table_2['Итог количество']*100).round(2)"
   ]
  },
  {
   "cell_type": "markdown",
   "id": "93fa7ca1",
   "metadata": {},
   "source": [
    "Распределим столбцы по датасету в соответствии с требованиями компании."
   ]
  },
  {
   "cell_type": "code",
   "execution_count": 33,
   "id": "f7b20a92",
   "metadata": {},
   "outputs": [],
   "source": [
    "table_2 = table_2[['Забор груза не состоялся (возможно отсутствует услуга забора)', '% от количества_1',\n",
    "               'Забор день в день', '% от количества_2', 'Забор на следующий день', '% от количества_3',\n",
    "              'Забор через 2 дня', '% от количества_4', 'Забор через 3 дня', '% от количества_5', 'Забор через 4-5 дней',\n",
    "               '% от количества_6', 'Забор через 6 дней и более', '% от количества_7', 'Итог количество', '% от количества_sum']]"
   ]
  },
  {
   "cell_type": "markdown",
   "id": "7e7b92ae",
   "metadata": {},
   "source": [
    "Объединим обе таблицы в одну. Отчет готов."
   ]
  },
  {
   "cell_type": "code",
   "execution_count": 34,
   "id": "d09746cd",
   "metadata": {},
   "outputs": [
    {
     "name": "stderr",
     "output_type": "stream",
     "text": [
      "C:\\Users\\telez\\AppData\\Local\\Temp\\ipykernel_12080\\1407636483.py:1: FutureWarning: The frame.append method is deprecated and will be removed from pandas in a future version. Use pandas.concat instead.\n",
      "  table_itog = table_2.append(table)\n"
     ]
    }
   ],
   "source": [
    "table_itog = table_2.append(table)\n",
    "table_itog = table_itog[['Забор груза не состоялся (возможно отсутствует услуга забора)', '% от количества_1',\n",
    "               'Забор день в день', '% от количества_2', 'Забор на следующий день', '% от количества_3',\n",
    "              'Забор через 2 дня', '% от количества_4', 'Забор через 3 дня', '% от количества_5', 'Забор через 4-5 дней',\n",
    "               '% от количества_6', 'Забор через 6 дней и более', '% от количества_7', 'Итог количество', '% от количества_sum']]"
   ]
  }
 ],
 "metadata": {
  "colab": {
   "provenance": []
  },
  "kernelspec": {
   "display_name": "Python 3 (ipykernel)",
   "language": "python",
   "name": "python3"
  },
  "language_info": {
   "codemirror_mode": {
    "name": "ipython",
    "version": 3
   },
   "file_extension": ".py",
   "mimetype": "text/x-python",
   "name": "python",
   "nbconvert_exporter": "python",
   "pygments_lexer": "ipython3",
   "version": "3.10.9"
  }
 },
 "nbformat": 4,
 "nbformat_minor": 5
}
